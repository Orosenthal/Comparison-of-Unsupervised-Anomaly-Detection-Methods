{
 "cells": [
  {
   "cell_type": "markdown",
   "metadata": {},
   "source": [
    "# <font color=2B3856><span style='font-family:Comic Sans MS'><u>Comparison</u> of Unsupervised Anomaly Detection Methods\n",
    "### <font color=2B3856><span style='font-family:Comic Sans MS'>(using the credit card fraud dataset)\n",
    "<span style='font-family:Comic Sans MS'> by Ori Rosenthal"
   ]
  },
  {
   "cell_type": "markdown",
   "metadata": {},
   "source": [
    "### <span style='font-family:Comic Sans MS'><font color=2B3856>The main purpose of this paper is to compare the approach (interquartile range outlier detection scoring system) I developed and described in a previous article (http://bit.ly/iqrod),<br> with other unsupervised anomaly detection algorithms.\n"
   ]
  },
  {
   "cell_type": "markdown",
   "metadata": {},
   "source": [
    "* <font color=1E5FE0><span style='font-family:Comic Sans MS'><b>Interquartile Range Outlier Detection (IQROD) -</b><font color=5E676B> Statistical anomaly detection algorithm scoring system based on interquartile range scoring. "
   ]
  },
  {
   "cell_type": "markdown",
   "metadata": {},
   "source": [
    "### <span style='font-family:Comic Sans MS'><font color=2B3856>For that purpose I used the Credit Card Fraud Detection dataset from kaggle,<br>scaled and separate features from the target variable, and test 4 well-known unsupervised algorithmss:    "
   ]
  },
  {
   "cell_type": "markdown",
   "metadata": {},
   "source": [
    "* <font color=1E5FE0><span style='font-family:Comic Sans MS'><b>Isolation Forest (IFOREST) -</b><font color=5E676B> built on the basis of decision trees, where points that can be isolated from other data are more likely to be anomalies (the shorter the average path, more anomalous the data instance is)"
   ]
  },
  {
   "cell_type": "markdown",
   "metadata": {},
   "source": [
    "* <font color=1E5FE0><span style='font-family:Comic Sans MS'><b>One-Class Support Vector Machine (OCSVM) -</b><font color=5E676B>  the model estimates the support of a distribution by identifying regions in input space where most of the cases lie. It does this by nonlinearly projecting the data into a feature space, and there separating the data from the origin by as large a margin as possible."
   ]
  },
  {
   "cell_type": "markdown",
   "metadata": {},
   "source": [
    "* <font color=1E5FE0><span style='font-family:Comic Sans MS'><b>Histogram-Based Outlier Score (HBOS) -</b><font color=5E676B> statistical anomaly detection algorithm which assumes the feature independence and calculates the outlier score by creating a univariate histogram for each single feature of the dataset."
   ]
  },
  {
   "cell_type": "markdown",
   "metadata": {},
   "source": [
    "* <font color=1E5FE0><span style='font-family:Comic Sans MS'><b>K-Nearest Neighbor (KNN) -</b><font color=5E676B> Density Based Anomaly Detection, a method deployed for classification of a datapoint. The way it works is a new datapoint will be compared to a k-number of existing data points to determine how to classify it"
   ]
  },
  {
   "cell_type": "code",
   "execution_count": 1,
   "metadata": {},
   "outputs": [],
   "source": [
    "import pandas as pd\n",
    "import numpy as np\n",
    "from sklearn.svm import OneClassSVM\n",
    "from sklearn.preprocessing import MinMaxScaler\n",
    "from sklearn.ensemble import IsolationForest\n",
    "from sklearn.metrics import confusion_matrix, recall_score\n",
    "from pyod.models.knn import KNN\n",
    "from pyod.models.hbos import HBOS\n",
    "import seaborn as sns\n",
    "import matplotlib.pyplot as plt\n",
    "%matplotlib inline"
   ]
  },
  {
   "cell_type": "markdown",
   "metadata": {},
   "source": [
    "### <span style='font-family:Comic Sans MS'>Dataset Content\n",
    "<span style='font-family:Comic Sans MS'>The datasets contains transactions made by credit cards in September 2013 by european cardholders. This dataset presents transactions that occurred in two days, where we have <b>492</b> frauds out of <b>284,807</b> transactions. The dataset is highly unbalanced, the positive class (frauds) account for <b>0.172%</b> of all transactions.\n",
    "\n",
    "<span style='font-family:Comic Sans MS'>It contains only numerical input variables which are the result of a PCA transformation.<br>Features V1, V2, ... V28 are the principal components obtained with PCA, the only features which have not been transformed with PCA are 'Time' and 'Amount'. Feature 'Time' contains the seconds elapsed between each transaction and the first transaction in the dataset. The feature 'Amount' is the transaction Amount, this feature can be used for example-dependant cost-senstive learning. Feature 'Class' is the response variable and it takes value 1 in case of fraud and 0 otherwise."
   ]
  },
  {
   "cell_type": "code",
   "execution_count": 2,
   "metadata": {},
   "outputs": [],
   "source": [
    "df = pd.read_csv(r'c:/Users/User/creditcard.csv')"
   ]
  },
  {
   "cell_type": "code",
   "execution_count": 3,
   "metadata": {},
   "outputs": [
    {
     "data": {
      "text/html": [
       "<div>\n",
       "<style scoped>\n",
       "    .dataframe tbody tr th:only-of-type {\n",
       "        vertical-align: middle;\n",
       "    }\n",
       "\n",
       "    .dataframe tbody tr th {\n",
       "        vertical-align: top;\n",
       "    }\n",
       "\n",
       "    .dataframe thead th {\n",
       "        text-align: right;\n",
       "    }\n",
       "</style>\n",
       "<table border=\"1\" class=\"dataframe\">\n",
       "  <thead>\n",
       "    <tr style=\"text-align: right;\">\n",
       "      <th></th>\n",
       "      <th>Time</th>\n",
       "      <th>V1</th>\n",
       "      <th>V2</th>\n",
       "      <th>V3</th>\n",
       "      <th>V4</th>\n",
       "      <th>V5</th>\n",
       "      <th>V6</th>\n",
       "      <th>V7</th>\n",
       "      <th>V8</th>\n",
       "      <th>V9</th>\n",
       "      <th>...</th>\n",
       "      <th>V21</th>\n",
       "      <th>V22</th>\n",
       "      <th>V23</th>\n",
       "      <th>V24</th>\n",
       "      <th>V25</th>\n",
       "      <th>V26</th>\n",
       "      <th>V27</th>\n",
       "      <th>V28</th>\n",
       "      <th>Amount</th>\n",
       "      <th>Class</th>\n",
       "    </tr>\n",
       "  </thead>\n",
       "  <tbody>\n",
       "    <tr>\n",
       "      <th>0</th>\n",
       "      <td>0.0</td>\n",
       "      <td>-1.359807</td>\n",
       "      <td>-0.072781</td>\n",
       "      <td>2.536347</td>\n",
       "      <td>1.378155</td>\n",
       "      <td>-0.338321</td>\n",
       "      <td>0.462388</td>\n",
       "      <td>0.239599</td>\n",
       "      <td>0.098698</td>\n",
       "      <td>0.363787</td>\n",
       "      <td>...</td>\n",
       "      <td>-0.018307</td>\n",
       "      <td>0.277838</td>\n",
       "      <td>-0.110474</td>\n",
       "      <td>0.066928</td>\n",
       "      <td>0.128539</td>\n",
       "      <td>-0.189115</td>\n",
       "      <td>0.133558</td>\n",
       "      <td>-0.021053</td>\n",
       "      <td>149.62</td>\n",
       "      <td>0</td>\n",
       "    </tr>\n",
       "    <tr>\n",
       "      <th>1</th>\n",
       "      <td>0.0</td>\n",
       "      <td>1.191857</td>\n",
       "      <td>0.266151</td>\n",
       "      <td>0.166480</td>\n",
       "      <td>0.448154</td>\n",
       "      <td>0.060018</td>\n",
       "      <td>-0.082361</td>\n",
       "      <td>-0.078803</td>\n",
       "      <td>0.085102</td>\n",
       "      <td>-0.255425</td>\n",
       "      <td>...</td>\n",
       "      <td>-0.225775</td>\n",
       "      <td>-0.638672</td>\n",
       "      <td>0.101288</td>\n",
       "      <td>-0.339846</td>\n",
       "      <td>0.167170</td>\n",
       "      <td>0.125895</td>\n",
       "      <td>-0.008983</td>\n",
       "      <td>0.014724</td>\n",
       "      <td>2.69</td>\n",
       "      <td>0</td>\n",
       "    </tr>\n",
       "    <tr>\n",
       "      <th>2</th>\n",
       "      <td>1.0</td>\n",
       "      <td>-1.358354</td>\n",
       "      <td>-1.340163</td>\n",
       "      <td>1.773209</td>\n",
       "      <td>0.379780</td>\n",
       "      <td>-0.503198</td>\n",
       "      <td>1.800499</td>\n",
       "      <td>0.791461</td>\n",
       "      <td>0.247676</td>\n",
       "      <td>-1.514654</td>\n",
       "      <td>...</td>\n",
       "      <td>0.247998</td>\n",
       "      <td>0.771679</td>\n",
       "      <td>0.909412</td>\n",
       "      <td>-0.689281</td>\n",
       "      <td>-0.327642</td>\n",
       "      <td>-0.139097</td>\n",
       "      <td>-0.055353</td>\n",
       "      <td>-0.059752</td>\n",
       "      <td>378.66</td>\n",
       "      <td>0</td>\n",
       "    </tr>\n",
       "    <tr>\n",
       "      <th>3</th>\n",
       "      <td>1.0</td>\n",
       "      <td>-0.966272</td>\n",
       "      <td>-0.185226</td>\n",
       "      <td>1.792993</td>\n",
       "      <td>-0.863291</td>\n",
       "      <td>-0.010309</td>\n",
       "      <td>1.247203</td>\n",
       "      <td>0.237609</td>\n",
       "      <td>0.377436</td>\n",
       "      <td>-1.387024</td>\n",
       "      <td>...</td>\n",
       "      <td>-0.108300</td>\n",
       "      <td>0.005274</td>\n",
       "      <td>-0.190321</td>\n",
       "      <td>-1.175575</td>\n",
       "      <td>0.647376</td>\n",
       "      <td>-0.221929</td>\n",
       "      <td>0.062723</td>\n",
       "      <td>0.061458</td>\n",
       "      <td>123.50</td>\n",
       "      <td>0</td>\n",
       "    </tr>\n",
       "    <tr>\n",
       "      <th>4</th>\n",
       "      <td>2.0</td>\n",
       "      <td>-1.158233</td>\n",
       "      <td>0.877737</td>\n",
       "      <td>1.548718</td>\n",
       "      <td>0.403034</td>\n",
       "      <td>-0.407193</td>\n",
       "      <td>0.095921</td>\n",
       "      <td>0.592941</td>\n",
       "      <td>-0.270533</td>\n",
       "      <td>0.817739</td>\n",
       "      <td>...</td>\n",
       "      <td>-0.009431</td>\n",
       "      <td>0.798278</td>\n",
       "      <td>-0.137458</td>\n",
       "      <td>0.141267</td>\n",
       "      <td>-0.206010</td>\n",
       "      <td>0.502292</td>\n",
       "      <td>0.219422</td>\n",
       "      <td>0.215153</td>\n",
       "      <td>69.99</td>\n",
       "      <td>0</td>\n",
       "    </tr>\n",
       "  </tbody>\n",
       "</table>\n",
       "<p>5 rows × 31 columns</p>\n",
       "</div>"
      ],
      "text/plain": [
       "   Time        V1        V2        V3        V4        V5        V6        V7  \\\n",
       "0   0.0 -1.359807 -0.072781  2.536347  1.378155 -0.338321  0.462388  0.239599   \n",
       "1   0.0  1.191857  0.266151  0.166480  0.448154  0.060018 -0.082361 -0.078803   \n",
       "2   1.0 -1.358354 -1.340163  1.773209  0.379780 -0.503198  1.800499  0.791461   \n",
       "3   1.0 -0.966272 -0.185226  1.792993 -0.863291 -0.010309  1.247203  0.237609   \n",
       "4   2.0 -1.158233  0.877737  1.548718  0.403034 -0.407193  0.095921  0.592941   \n",
       "\n",
       "         V8        V9  ...       V21       V22       V23       V24       V25  \\\n",
       "0  0.098698  0.363787  ... -0.018307  0.277838 -0.110474  0.066928  0.128539   \n",
       "1  0.085102 -0.255425  ... -0.225775 -0.638672  0.101288 -0.339846  0.167170   \n",
       "2  0.247676 -1.514654  ...  0.247998  0.771679  0.909412 -0.689281 -0.327642   \n",
       "3  0.377436 -1.387024  ... -0.108300  0.005274 -0.190321 -1.175575  0.647376   \n",
       "4 -0.270533  0.817739  ... -0.009431  0.798278 -0.137458  0.141267 -0.206010   \n",
       "\n",
       "        V26       V27       V28  Amount  Class  \n",
       "0 -0.189115  0.133558 -0.021053  149.62      0  \n",
       "1  0.125895 -0.008983  0.014724    2.69      0  \n",
       "2 -0.139097 -0.055353 -0.059752  378.66      0  \n",
       "3 -0.221929  0.062723  0.061458  123.50      0  \n",
       "4  0.502292  0.219422  0.215153   69.99      0  \n",
       "\n",
       "[5 rows x 31 columns]"
      ]
     },
     "execution_count": 3,
     "metadata": {},
     "output_type": "execute_result"
    }
   ],
   "source": [
    "df.head()"
   ]
  },
  {
   "cell_type": "code",
   "execution_count": 4,
   "metadata": {},
   "outputs": [],
   "source": [
    "# Min-max scalling & separating features from the target variable\n",
    "mms = MinMaxScaler()\n",
    "X = df.drop('Class', axis=1)\n",
    "y = df['Class']\n",
    "\n",
    "X = mms.fit_transform(X)"
   ]
  },
  {
   "cell_type": "markdown",
   "metadata": {},
   "source": [
    "### <span style='font-family:Comic Sans MS'><u>IQROD functions</u>"
   ]
  },
  {
   "cell_type": "code",
   "execution_count": 5,
   "metadata": {},
   "outputs": [],
   "source": [
    "def iqr_detection (data):\n",
    "    \n",
    "    q1,q3 = np.percentile(data, [25,75])\n",
    "    iqr = q3 - q1\n",
    "    lower_bound = q1 - (iqr * 1.5)\n",
    "    upper_bound = q3 + (iqr * 1.5)\n",
    "    return np.where((data > upper_bound), data,\n",
    "                    np.where ((data < lower_bound), (1-data), 0)) # Giving the same magnitude to the opposite sides outlier\n",
    "\n",
    "\n",
    "def iqrod (df, threshold=0.0015):\n",
    "    \n",
    "    mms = MinMaxScaler()\n",
    "    df_iqr = mms.fit_transform(df)\n",
    "    df_iqr = pd.DataFrame(df_iqr, columns=df.columns)\n",
    "    df_iqr = df_iqr.drop('Class', axis=1).apply(iqr_detection)    \n",
    "    df_iqr['total_iqr'] = df_iqr.sum(axis=1)\n",
    "    df_iqr = pd.concat([df_iqr ,df['Class']], axis=1)\n",
    "    threshold = int(threshold * len(df))\n",
    "    df_iqr = df_iqr.sort_values(by='total_iqr', ascending=False).reset_index()\n",
    "    df_iqr.loc[:threshold, 'iqr_predict'] = 1\n",
    "    df_iqr.loc[threshold:, 'iqr_predict'] = 0\n",
    "    df_iqr.set_index('index', inplace=True)\n",
    "    df_iqr.sort_index(inplace=True)\n",
    "    \n",
    "    return df_iqr['iqr_predict'].values # Return algorithm classifier prediction\n"
   ]
  },
  {
   "cell_type": "code",
   "execution_count": 6,
   "metadata": {},
   "outputs": [],
   "source": [
    "# Calculate fraud fraction (o_fraction = outlier fraction)\n",
    "o_fraction = df['Class'].value_counts(normalize=True)[1]\n",
    "\n",
    "# Build outlier detection algorithms dictionary\n",
    "classifiers = {\n",
    "    'IQROD'  : iqrod(df, o_fraction),\n",
    "    'IFOREST': IsolationForest(contamination=o_fraction),\n",
    "    'OCSVM'  : OneClassSVM(nu=o_fraction),\n",
    "    'HBOS'   : HBOS(contamination=o_fraction),\n",
    "    'KNN'    : KNN(contamination=o_fraction)\n",
    "   }\n"
   ]
  },
  {
   "cell_type": "markdown",
   "metadata": {},
   "source": [
    "<span style='font-family:Comic Sans MS'>because some of the classifiers return their prediction labeled with 1,-1 we should modify for 0,1:"
   ]
  },
  {
   "cell_type": "code",
   "execution_count": 7,
   "metadata": {},
   "outputs": [],
   "source": [
    "def modify_labels(prediction):\n",
    "    \n",
    "    prediction[prediction == 1] = 0\n",
    "    prediction[prediction == -1] = 1\n",
    "    return prediction    \n"
   ]
  },
  {
   "cell_type": "markdown",
   "metadata": {},
   "source": [
    "### <span style='font-family:Comic Sans MS'><u>Classifiers prediction dictionary></u>"
   ]
  },
  {
   "cell_type": "code",
   "execution_count": 8,
   "metadata": {},
   "outputs": [],
   "source": [
    "classifiers_prediction=dict()\n",
    "\n",
    "for name, clf in classifiers.items():\n",
    "    if name == 'IQROD':\n",
    "        classifiers_prediction[name] = clf\n",
    "    elif name == 'IFOREST':\n",
    "        classifiers_prediction[name] = modify_labels(clf.fit(X).predict(X))\n",
    "    elif name == 'OCSVM':\n",
    "        classifiers_prediction[name] = modify_labels(clf.fit(X).predict(X))\n",
    "    elif name == 'HBOS':\n",
    "        classifiers_prediction[name] = clf.fit(X).predict(X)\n",
    "    elif name == 'KNN':\n",
    "        classifiers_prediction[name] = clf.fit(X).predict(X)    \n",
    "    \n",
    "        "
   ]
  },
  {
   "cell_type": "markdown",
   "metadata": {},
   "source": [
    ".."
   ]
  },
  {
   "cell_type": "markdown",
   "metadata": {},
   "source": [
    " <span style='font-family:Comic Sans MS'> Although I didn't use the fraud labels to build the unsupervised fraud detection solutions, <br> I will use the labels to evaluate the results."
   ]
  },
  {
   "cell_type": "markdown",
   "metadata": {},
   "source": [
    "### <span style='font-family:Comic Sans MS'>Confusion Matrices"
   ]
  },
  {
   "cell_type": "code",
   "execution_count": 9,
   "metadata": {},
   "outputs": [
    {
     "data": {
      "image/png": "[encoded data removed]",
      "text/plain": [
       "<Figure size 720x720 with 5 Axes>"
      ]
     },
     "metadata": {
      "needs_background": "light"
     },
     "output_type": "display_data"
    }
   ],
   "source": [
    "j = 0\n",
    "plt.figure(figsize=(10,10))\n",
    "for name, y_pred in classifiers_prediction.items():\n",
    "   \n",
    "    \n",
    "    cm = confusion_matrix(y,y_pred)\n",
    "    plt.subplot(3,3,j+1)\n",
    "    sns.heatmap(cm, annot=True, fmt=\".0f\",linewidths=.5,square = True, cmap ='Blues_r',cbar=False,\n",
    "                annot_kws={\"fontsize\":12}); \n",
    "\n",
    "    # labels, title and ticks\n",
    "    plt.ylabel('Actual Class');\n",
    "    plt.xlabel('Predicted Class');\n",
    "    plt.title(name, fontsize=15); \n",
    "    plt.tight_layout()\n",
    "    plt.subplots_adjust(top=0.95)\n",
    "    plt.tight_layout()\n",
    "    j +=1\n"
   ]
  },
  {
   "cell_type": "markdown",
   "metadata": {},
   "source": [
    "<span style='font-family:Comic Sans MS'><b>Recall</b> measures out of all the fraudulent transactions, what percentage of these are correctly identified by our model.<br>\n",
    "I will put all our classifers results into a DataFrame and sort them."
   ]
  },
  {
   "cell_type": "code",
   "execution_count": 14,
   "metadata": {},
   "outputs": [
    {
     "data": {
      "text/html": [
       "<style  type=\"text/css\" >\n",
       "    #T_3ccecbe2_4b73_11ea_bcfe_50e549ebce80row4_col0 {\n",
       "            background-color:  lightgreen;\n",
       "        }</style><table id=\"T_3ccecbe2_4b73_11ea_bcfe_50e549ebce80\" ><thead>    <tr>        <th class=\"blank level0\" ></th>        <th class=\"col_heading level0 col0\" >Recall score</th>    </tr></thead><tbody>\n",
       "                <tr>\n",
       "                        <th id=\"T_3ccecbe2_4b73_11ea_bcfe_50e549ebce80level0_row0\" class=\"row_heading level0 row0\" >KNN</th>\n",
       "                        <td id=\"T_3ccecbe2_4b73_11ea_bcfe_50e549ebce80row0_col0\" class=\"data row0 col0\" >0.126</td>\n",
       "            </tr>\n",
       "            <tr>\n",
       "                        <th id=\"T_3ccecbe2_4b73_11ea_bcfe_50e549ebce80level0_row1\" class=\"row_heading level0 row1\" >IFOREST</th>\n",
       "                        <td id=\"T_3ccecbe2_4b73_11ea_bcfe_50e549ebce80row1_col0\" class=\"data row1 col0\" >0.226</td>\n",
       "            </tr>\n",
       "            <tr>\n",
       "                        <th id=\"T_3ccecbe2_4b73_11ea_bcfe_50e549ebce80level0_row2\" class=\"row_heading level0 row2\" >OCSVM</th>\n",
       "                        <td id=\"T_3ccecbe2_4b73_11ea_bcfe_50e549ebce80row2_col0\" class=\"data row2 col0\" >0.256</td>\n",
       "            </tr>\n",
       "            <tr>\n",
       "                        <th id=\"T_3ccecbe2_4b73_11ea_bcfe_50e549ebce80level0_row3\" class=\"row_heading level0 row3\" >HBOS</th>\n",
       "                        <td id=\"T_3ccecbe2_4b73_11ea_bcfe_50e549ebce80row3_col0\" class=\"data row3 col0\" >0.319</td>\n",
       "            </tr>\n",
       "            <tr>\n",
       "                        <th id=\"T_3ccecbe2_4b73_11ea_bcfe_50e549ebce80level0_row4\" class=\"row_heading level0 row4\" >IQROD</th>\n",
       "                        <td id=\"T_3ccecbe2_4b73_11ea_bcfe_50e549ebce80row4_col0\" class=\"data row4 col0\" >0.352</td>\n",
       "            </tr>\n",
       "    </tbody></table>"
      ],
      "text/plain": [
       "<pandas.io.formats.style.Styler at 0x14746c50>"
      ]
     },
     "execution_count": 14,
     "metadata": {},
     "output_type": "execute_result"
    }
   ],
   "source": [
    "pd.DataFrame([round(recall_score(y, x),3) for x in classifiers_prediction.values()],\n",
    "             index=classifiers_prediction.keys(), columns=['Recall score']).sort_values(by='Recall score').\\\n",
    "             style.highlight_max(color='lightgreen')   "
   ]
  },
  {
   "cell_type": "markdown",
   "metadata": {},
   "source": [
    "## <span style='font-family:Comic Sans MS'>Conclusion"
   ]
  },
  {
   "cell_type": "markdown",
   "metadata": {},
   "source": [
    "### <font color=2B3856><span style='font-family:Comic Sans MS'>Although this is a simple comparison test and not a scientific one, the IQROD method shows great promise in comparison with other methods, further research on other data sets and methods needs to be carried out under different conditions for further evaluation."
   ]
  }
 ],
 "metadata": {
  "kernelspec": {
   "display_name": "Python 3",
   "language": "python",
   "name": "python3"
  },
  "language_info": {
   "codemirror_mode": {
    "name": "ipython",
    "version": 3
   },
   "file_extension": ".py",
   "mimetype": "text/x-python",
   "name": "python",
   "nbconvert_exporter": "python",
   "pygments_lexer": "ipython3",
   "version": "3.7.3"
  }
 },
 "nbformat": 4,
 "nbformat_minor": 2
}
